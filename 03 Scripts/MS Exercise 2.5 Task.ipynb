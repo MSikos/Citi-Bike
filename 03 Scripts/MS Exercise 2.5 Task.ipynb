{
 "cells": [
  {
   "cell_type": "code",
   "execution_count": 1,
   "metadata": {},
   "outputs": [],
   "source": [
    "import pandas as pd\n",
    "import numpy as np\n",
    "import os\n",
    "from keplergl import KeplerGl\n",
    "from pyproj import CRS\n",
    "import numpy as np\n",
    "from matplotlib import pyplot as plt"
   ]
  },
  {
   "cell_type": "code",
   "execution_count": 3,
   "metadata": {},
   "outputs": [],
   "source": [
    "# Set system path\n",
    "\n",
    "path = r'C:\\Users\\Stony\\OneDrive\\CareerFoundry\\Data Specialization Course\\envs\\Citi-Bike'\n",
    "#path = r'C:\\Users\\Stony\\Videos\\CareerFoundry\\Citi-Bike'"
   ]
  },
  {
   "cell_type": "code",
   "execution_count": 4,
   "metadata": {},
   "outputs": [
    {
     "name": "stderr",
     "output_type": "stream",
     "text": [
      "C:\\Users\\Stony\\AppData\\Local\\Temp\\ipykernel_20216\\1699888674.py:3: DtypeWarning: Columns (6,8) have mixed types. Specify dtype option on import or set low_memory=False.\n",
      "  df_final = pd.read_csv(os.path.join(path, '02 Data', 'Prepared Data', 'final_data.csv'), index_col = 0)\n"
     ]
    }
   ],
   "source": [
    "# Import dataset from prior exercise\n",
    "\n",
    "df_final = pd.read_csv(os.path.join(path, '02 Data', 'Prepared Data', 'final_data.csv'), index_col = 0)"
   ]
  },
  {
   "cell_type": "code",
   "execution_count": 5,
   "metadata": {},
   "outputs": [
    {
     "data": {
      "text/plain": [
       "ride_id                object\n",
       "rideable_type          object\n",
       "started_at             object\n",
       "ended_at               object\n",
       "start_station_name     object\n",
       "start_station_id       object\n",
       "end_station_name       object\n",
       "end_station_id         object\n",
       "start_lat             float64\n",
       "start_lng             float64\n",
       "end_lat               float64\n",
       "end_lng               float64\n",
       "member_casual          object\n",
       "avgTemp               float64\n",
       "bike_rides_daily        int64\n",
       "started                object\n",
       "ride_date              object\n",
       "dtype: object"
      ]
     },
     "execution_count": 5,
     "metadata": {},
     "output_type": "execute_result"
    }
   ],
   "source": [
    "df_final.dtypes"
   ]
  },
  {
   "cell_type": "code",
   "execution_count": 8,
   "metadata": {},
   "outputs": [],
   "source": [
    "# Create a value column and group by start and end station \n",
    "\n",
    "df_final['value'] = 1\n",
    "df_group = df_final.groupby(['end_station_name', 'end_lat', 'end_lng', 'start_station_name', 'start_lat', 'start_lng'])['value'].count().reset_index()"
   ]
  },
  {
   "cell_type": "code",
   "execution_count": 9,
   "metadata": {},
   "outputs": [
    {
     "data": {
      "text/html": [
       "<div>\n",
       "<style scoped>\n",
       "    .dataframe tbody tr th:only-of-type {\n",
       "        vertical-align: middle;\n",
       "    }\n",
       "\n",
       "    .dataframe tbody tr th {\n",
       "        vertical-align: top;\n",
       "    }\n",
       "\n",
       "    .dataframe thead th {\n",
       "        text-align: right;\n",
       "    }\n",
       "</style>\n",
       "<table border=\"1\" class=\"dataframe\">\n",
       "  <thead>\n",
       "    <tr style=\"text-align: right;\">\n",
       "      <th></th>\n",
       "      <th>end_station_name</th>\n",
       "      <th>end_lat</th>\n",
       "      <th>end_lng</th>\n",
       "      <th>start_station_name</th>\n",
       "      <th>start_lat</th>\n",
       "      <th>start_lng</th>\n",
       "      <th>value</th>\n",
       "    </tr>\n",
       "  </thead>\n",
       "  <tbody>\n",
       "    <tr>\n",
       "      <th>0</th>\n",
       "      <td>1 Ave &amp; E 110 St</td>\n",
       "      <td>40.792327</td>\n",
       "      <td>-73.938300</td>\n",
       "      <td>1 Ave &amp; E 110 St</td>\n",
       "      <td>40.792327</td>\n",
       "      <td>-73.938300</td>\n",
       "      <td>7</td>\n",
       "    </tr>\n",
       "    <tr>\n",
       "      <th>1</th>\n",
       "      <td>1 Ave &amp; E 110 St</td>\n",
       "      <td>40.792327</td>\n",
       "      <td>-73.938300</td>\n",
       "      <td>1 Ave &amp; E 39 St</td>\n",
       "      <td>40.747140</td>\n",
       "      <td>-73.971130</td>\n",
       "      <td>1</td>\n",
       "    </tr>\n",
       "    <tr>\n",
       "      <th>2</th>\n",
       "      <td>1 Ave &amp; E 110 St</td>\n",
       "      <td>40.792327</td>\n",
       "      <td>-73.938300</td>\n",
       "      <td>1 Ave &amp; E 68 St</td>\n",
       "      <td>40.765005</td>\n",
       "      <td>-73.958185</td>\n",
       "      <td>3</td>\n",
       "    </tr>\n",
       "    <tr>\n",
       "      <th>3</th>\n",
       "      <td>1 Ave &amp; E 110 St</td>\n",
       "      <td>40.792327</td>\n",
       "      <td>-73.938300</td>\n",
       "      <td>1 Ave &amp; E 78 St</td>\n",
       "      <td>40.771404</td>\n",
       "      <td>-73.953517</td>\n",
       "      <td>1</td>\n",
       "    </tr>\n",
       "    <tr>\n",
       "      <th>4</th>\n",
       "      <td>1 Ave &amp; E 110 St</td>\n",
       "      <td>40.792327</td>\n",
       "      <td>-73.938300</td>\n",
       "      <td>2 Ave &amp; E 104 St</td>\n",
       "      <td>40.789211</td>\n",
       "      <td>-73.943708</td>\n",
       "      <td>1</td>\n",
       "    </tr>\n",
       "    <tr>\n",
       "      <th>...</th>\n",
       "      <td>...</td>\n",
       "      <td>...</td>\n",
       "      <td>...</td>\n",
       "      <td>...</td>\n",
       "      <td>...</td>\n",
       "      <td>...</td>\n",
       "      <td>...</td>\n",
       "    </tr>\n",
       "    <tr>\n",
       "      <th>5004604</th>\n",
       "      <td>Yankee Ferry Terminal</td>\n",
       "      <td>40.687066</td>\n",
       "      <td>-74.016756</td>\n",
       "      <td>South St &amp; Gouverneur Ln</td>\n",
       "      <td>40.703554</td>\n",
       "      <td>-74.006702</td>\n",
       "      <td>3</td>\n",
       "    </tr>\n",
       "    <tr>\n",
       "      <th>5004605</th>\n",
       "      <td>Yankee Ferry Terminal</td>\n",
       "      <td>40.687066</td>\n",
       "      <td>-74.016756</td>\n",
       "      <td>South St &amp; Whitehall St</td>\n",
       "      <td>40.701221</td>\n",
       "      <td>-74.012342</td>\n",
       "      <td>4</td>\n",
       "    </tr>\n",
       "    <tr>\n",
       "      <th>5004606</th>\n",
       "      <td>Yankee Ferry Terminal</td>\n",
       "      <td>40.687066</td>\n",
       "      <td>-74.016756</td>\n",
       "      <td>Water St &amp;  Fletcher St</td>\n",
       "      <td>40.706411</td>\n",
       "      <td>-74.005597</td>\n",
       "      <td>1</td>\n",
       "    </tr>\n",
       "    <tr>\n",
       "      <th>5004607</th>\n",
       "      <td>Yankee Ferry Terminal</td>\n",
       "      <td>40.687066</td>\n",
       "      <td>-74.016756</td>\n",
       "      <td>Yankee Ferry Terminal</td>\n",
       "      <td>40.687066</td>\n",
       "      <td>-74.016756</td>\n",
       "      <td>833</td>\n",
       "    </tr>\n",
       "    <tr>\n",
       "      <th>5004608</th>\n",
       "      <td>York St &amp; Marin Blvd</td>\n",
       "      <td>40.716615</td>\n",
       "      <td>-74.042412</td>\n",
       "      <td>Greenwich St &amp; W Houston St</td>\n",
       "      <td>40.728846</td>\n",
       "      <td>-74.008591</td>\n",
       "      <td>1</td>\n",
       "    </tr>\n",
       "  </tbody>\n",
       "</table>\n",
       "<p>5004609 rows × 7 columns</p>\n",
       "</div>"
      ],
      "text/plain": [
       "              end_station_name    end_lat    end_lng  \\\n",
       "0             1 Ave & E 110 St  40.792327 -73.938300   \n",
       "1             1 Ave & E 110 St  40.792327 -73.938300   \n",
       "2             1 Ave & E 110 St  40.792327 -73.938300   \n",
       "3             1 Ave & E 110 St  40.792327 -73.938300   \n",
       "4             1 Ave & E 110 St  40.792327 -73.938300   \n",
       "...                        ...        ...        ...   \n",
       "5004604  Yankee Ferry Terminal  40.687066 -74.016756   \n",
       "5004605  Yankee Ferry Terminal  40.687066 -74.016756   \n",
       "5004606  Yankee Ferry Terminal  40.687066 -74.016756   \n",
       "5004607  Yankee Ferry Terminal  40.687066 -74.016756   \n",
       "5004608   York St & Marin Blvd  40.716615 -74.042412   \n",
       "\n",
       "                  start_station_name  start_lat  start_lng  value  \n",
       "0                   1 Ave & E 110 St  40.792327 -73.938300      7  \n",
       "1                    1 Ave & E 39 St  40.747140 -73.971130      1  \n",
       "2                    1 Ave & E 68 St  40.765005 -73.958185      3  \n",
       "3                    1 Ave & E 78 St  40.771404 -73.953517      1  \n",
       "4                   2 Ave & E 104 St  40.789211 -73.943708      1  \n",
       "...                              ...        ...        ...    ...  \n",
       "5004604     South St & Gouverneur Ln  40.703554 -74.006702      3  \n",
       "5004605      South St & Whitehall St  40.701221 -74.012342      4  \n",
       "5004606      Water St &  Fletcher St  40.706411 -74.005597      1  \n",
       "5004607        Yankee Ferry Terminal  40.687066 -74.016756    833  \n",
       "5004608  Greenwich St & W Houston St  40.728846 -74.008591      1  \n",
       "\n",
       "[5004609 rows x 7 columns]"
      ]
     },
     "execution_count": 9,
     "metadata": {},
     "output_type": "execute_result"
    }
   ],
   "source": [
    "df_group"
   ]
  },
  {
   "cell_type": "code",
   "execution_count": 10,
   "metadata": {},
   "outputs": [
    {
     "name": "stdout",
     "output_type": "stream",
     "text": [
      "29768282\n",
      "(5004609, 7)\n"
     ]
    }
   ],
   "source": [
    "print(df_group['value'].sum())\n",
    "print(df_group.shape)"
   ]
  },
  {
   "cell_type": "code",
   "execution_count": 11,
   "metadata": {},
   "outputs": [
    {
     "data": {
      "text/plain": [
       "count    5.004609e+06\n",
       "mean     5.948173e+00\n",
       "std      4.132447e+01\n",
       "min      1.000000e+00\n",
       "25%      1.000000e+00\n",
       "50%      1.000000e+00\n",
       "75%      1.000000e+00\n",
       "max      1.065800e+04\n",
       "Name: value, dtype: float64"
      ]
     },
     "execution_count": 11,
     "metadata": {},
     "output_type": "execute_result"
    }
   ],
   "source": [
    "df_group['value'].describe()"
   ]
  },
  {
   "cell_type": "markdown",
   "metadata": {},
   "source": []
  },
  {
   "cell_type": "code",
   "execution_count": 12,
   "metadata": {},
   "outputs": [
    {
     "data": {
      "image/png": "[encoded data removed]",
      "text/plain": [
       "<Figure size 640x480 with 1 Axes>"
      ]
     },
     "metadata": {},
     "output_type": "display_data"
    }
   ],
   "source": [
    "df_group['value'].hist(bins = 100)\n",
    "plt.show()"
   ]
  },
  {
   "cell_type": "code",
   "execution_count": 13,
   "metadata": {},
   "outputs": [
    {
     "data": {
      "text/plain": [
       "[]"
      ]
     },
     "execution_count": 13,
     "metadata": {},
     "output_type": "execute_result"
    },
    {
     "data": {
      "image/png": "[encoded data removed]",
      "text/plain": [
       "<Figure size 640x480 with 1 Axes>"
      ]
     },
     "metadata": {},
     "output_type": "display_data"
    }
   ],
   "source": [
    "b_plot = df_group.boxplot(column = 'value') \n",
    "b_plot.plot()"
   ]
  },
  {
   "cell_type": "code",
   "execution_count": 14,
   "metadata": {},
   "outputs": [
    {
     "data": {
      "text/plain": [
       "value\n",
       "1       4316553\n",
       "2        129961\n",
       "3         74389\n",
       "4         50912\n",
       "5         37982\n",
       "         ...   \n",
       "1534          1\n",
       "1806          1\n",
       "1871          1\n",
       "2027          1\n",
       "3011          1\n",
       "Name: count, Length: 1714, dtype: int64"
      ]
     },
     "execution_count": 14,
     "metadata": {},
     "output_type": "execute_result"
    }
   ],
   "source": [
    "df_group['value'].sort_index().value_counts()"
   ]
  },
  {
   "cell_type": "code",
   "execution_count": 15,
   "metadata": {},
   "outputs": [],
   "source": [
    "df_group.to_csv(os.path.join(path, '02 Data', 'Prepared Data', 'df_groupby_final.csv'))"
   ]
  },
  {
   "cell_type": "code",
   "execution_count": 16,
   "metadata": {},
   "outputs": [
    {
     "data": {
      "text/html": [
       "<div>\n",
       "<style scoped>\n",
       "    .dataframe tbody tr th:only-of-type {\n",
       "        vertical-align: middle;\n",
       "    }\n",
       "\n",
       "    .dataframe tbody tr th {\n",
       "        vertical-align: top;\n",
       "    }\n",
       "\n",
       "    .dataframe thead th {\n",
       "        text-align: right;\n",
       "    }\n",
       "</style>\n",
       "<table border=\"1\" class=\"dataframe\">\n",
       "  <thead>\n",
       "    <tr style=\"text-align: right;\">\n",
       "      <th></th>\n",
       "      <th>end_station_name</th>\n",
       "      <th>end_lat</th>\n",
       "      <th>end_lng</th>\n",
       "      <th>start_station_name</th>\n",
       "      <th>start_lat</th>\n",
       "      <th>start_lng</th>\n",
       "      <th>value</th>\n",
       "    </tr>\n",
       "  </thead>\n",
       "  <tbody>\n",
       "    <tr>\n",
       "      <th>0</th>\n",
       "      <td>1 Ave &amp; E 110 St</td>\n",
       "      <td>40.792327</td>\n",
       "      <td>-73.9383</td>\n",
       "      <td>1 Ave &amp; E 110 St</td>\n",
       "      <td>40.792327</td>\n",
       "      <td>-73.938300</td>\n",
       "      <td>7</td>\n",
       "    </tr>\n",
       "    <tr>\n",
       "      <th>1</th>\n",
       "      <td>1 Ave &amp; E 110 St</td>\n",
       "      <td>40.792327</td>\n",
       "      <td>-73.9383</td>\n",
       "      <td>1 Ave &amp; E 39 St</td>\n",
       "      <td>40.747140</td>\n",
       "      <td>-73.971130</td>\n",
       "      <td>1</td>\n",
       "    </tr>\n",
       "    <tr>\n",
       "      <th>2</th>\n",
       "      <td>1 Ave &amp; E 110 St</td>\n",
       "      <td>40.792327</td>\n",
       "      <td>-73.9383</td>\n",
       "      <td>1 Ave &amp; E 68 St</td>\n",
       "      <td>40.765005</td>\n",
       "      <td>-73.958185</td>\n",
       "      <td>3</td>\n",
       "    </tr>\n",
       "    <tr>\n",
       "      <th>3</th>\n",
       "      <td>1 Ave &amp; E 110 St</td>\n",
       "      <td>40.792327</td>\n",
       "      <td>-73.9383</td>\n",
       "      <td>1 Ave &amp; E 78 St</td>\n",
       "      <td>40.771404</td>\n",
       "      <td>-73.953517</td>\n",
       "      <td>1</td>\n",
       "    </tr>\n",
       "    <tr>\n",
       "      <th>4</th>\n",
       "      <td>1 Ave &amp; E 110 St</td>\n",
       "      <td>40.792327</td>\n",
       "      <td>-73.9383</td>\n",
       "      <td>2 Ave &amp; E 104 St</td>\n",
       "      <td>40.789211</td>\n",
       "      <td>-73.943708</td>\n",
       "      <td>1</td>\n",
       "    </tr>\n",
       "  </tbody>\n",
       "</table>\n",
       "</div>"
      ],
      "text/plain": [
       "   end_station_name    end_lat  end_lng start_station_name  start_lat  \\\n",
       "0  1 Ave & E 110 St  40.792327 -73.9383   1 Ave & E 110 St  40.792327   \n",
       "1  1 Ave & E 110 St  40.792327 -73.9383    1 Ave & E 39 St  40.747140   \n",
       "2  1 Ave & E 110 St  40.792327 -73.9383    1 Ave & E 68 St  40.765005   \n",
       "3  1 Ave & E 110 St  40.792327 -73.9383    1 Ave & E 78 St  40.771404   \n",
       "4  1 Ave & E 110 St  40.792327 -73.9383   2 Ave & E 104 St  40.789211   \n",
       "\n",
       "   start_lng  value  \n",
       "0 -73.938300      7  \n",
       "1 -73.971130      1  \n",
       "2 -73.958185      3  \n",
       "3 -73.953517      1  \n",
       "4 -73.943708      1  "
      ]
     },
     "execution_count": 16,
     "metadata": {},
     "output_type": "execute_result"
    }
   ],
   "source": [
    "df_group.head()"
   ]
  },
  {
   "cell_type": "markdown",
   "metadata": {},
   "source": []
  },
  {
   "cell_type": "code",
   "execution_count": 17,
   "metadata": {},
   "outputs": [
    {
     "name": "stdout",
     "output_type": "stream",
     "text": [
      "                            end_station_name    end_lat    end_lng  \\\n",
      "1116657                  Broadway & W 133 St  40.819034 -73.956156   \n",
      "837673              Amsterdam Ave & W 172 St  40.842173 -73.935111   \n",
      "3502873             Pacific St & Classon Ave  40.679194 -73.958790   \n",
      "3210868                 Madison Av & E 51 St  40.758630 -73.975130   \n",
      "772862   Adam Clayton Powell Blvd & W 138 St  40.816960 -73.942296   \n",
      "...                                      ...        ...        ...   \n",
      "1754750                      E 11 St & 1 Ave  40.729538 -73.984267   \n",
      "2071624                       E 4 St & 2 Ave  40.726281 -73.989780   \n",
      "4971042             Wilson Ave & Troutman St  40.701660 -73.927540   \n",
      "1025009                  Bond St & Bergen St  40.684967 -73.986208   \n",
      "4398802                      W 35 St & 9 Ave  40.754145 -73.996089   \n",
      "\n",
      "                          start_station_name  start_lat  start_lng  value  \n",
      "1116657             E 103 St & Lexington Ave  40.790208 -73.947517      1  \n",
      "837673              Wadsworth Ave & W 175 St  40.846002 -73.937678      1  \n",
      "3502873              Macon St & Nostrand Ave  40.681021 -73.949849      1  \n",
      "3210868                      W 18 St & 6 Ave  40.739536 -73.994543      1  \n",
      "772862   W 144 St & Adam Clayton Powell Blvd  40.820899 -73.939221      1  \n",
      "...                                      ...        ...        ...    ...  \n",
      "1754750                      E 15 St & 3 Ave  40.734088 -73.986882      1  \n",
      "2071624                 Allen St & Hester St  40.715604 -73.992135      1  \n",
      "4971042          Forest Ave & Summerfield St  40.699204 -73.897748      1  \n",
      "1025009                  Bond St & Bergen St  40.684922 -73.986153      1  \n",
      "4398802           7 Ave & Central Park South  40.766529 -73.979041      1  \n",
      "\n",
      "[1501383 rows x 7 columns]\n"
     ]
    }
   ],
   "source": [
    "# Take a 30% sample of the dataframe to create the KeplerGl plot\n",
    "\n",
    "df_sample = df_group.sample(frac=0.3, random_state=1)\n",
    "print(df_sample)"
   ]
  },
  {
   "cell_type": "code",
   "execution_count": 19,
   "metadata": {},
   "outputs": [
    {
     "name": "stdout",
     "output_type": "stream",
     "text": [
      "User Guide: https://docs.kepler.gl/docs/keplergl-jupyter\n"
     ]
    },
    {
     "data": {
      "application/vnd.jupyter.widget-view+json": {
       "model_id": "b4afc0769a1b4da09d65bc39ff90eb01",
       "version_major": 2,
       "version_minor": 0
      },
      "text/plain": [
       "KeplerGl(data={'data_1':                             end_station_name    end_lat    end_lng  \\\n",
       "1116657        …"
      ]
     },
     "metadata": {},
     "output_type": "display_data"
    }
   ],
   "source": [
    "# Create KeplerGl instance\n",
    "\n",
    "m = KeplerGl(height = 900, data={\"data_1\": df_sample})\n",
    "m"
   ]
  },
  {
   "cell_type": "markdown",
   "metadata": {},
   "source": [
    "I did not change any colors yet"
   ]
  },
  {
   "cell_type": "code",
   "execution_count": 33,
   "metadata": {},
   "outputs": [],
   "source": [
    "# Save a configuration file\n",
    "\n",
    "config = m.config"
   ]
  },
  {
   "cell_type": "code",
   "execution_count": null,
   "metadata": {},
   "outputs": [],
   "source": [
    "# Save the KeplerGl map to a HTML file\n",
    "\n",
    "m.save_to_html(file_name='NYC Bike Trips Aggregated.html', read_only = False, config = config)"
   ]
  },
  {
   "cell_type": "code",
   "execution_count": null,
   "metadata": {},
   "outputs": [],
   "source": []
  }
 ],
 "metadata": {
  "kernelspec": {
   "display_name": "venv_citibike",
   "language": "python",
   "name": "python3"
  },
  "language_info": {
   "codemirror_mode": {
    "name": "ipython",
    "version": 3
   },
   "file_extension": ".py",
   "mimetype": "text/x-python",
   "name": "python",
   "nbconvert_exporter": "python",
   "pygments_lexer": "ipython3",
   "version": "3.12.7"
  }
 },
 "nbformat": 4,
 "nbformat_minor": 2
}
