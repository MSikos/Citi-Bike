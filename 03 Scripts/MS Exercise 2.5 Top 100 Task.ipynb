{
 "cells": [
  {
   "cell_type": "code",
   "execution_count": 1,
   "metadata": {},
   "outputs": [],
   "source": [
    "import pandas as pd\n",
    "import numpy as np\n",
    "import os\n",
    "from keplergl import KeplerGl\n",
    "from pyproj import CRS\n",
    "import numpy as np\n",
    "from matplotlib import pyplot as plt"
   ]
  },
  {
   "cell_type": "code",
   "execution_count": 2,
   "metadata": {},
   "outputs": [],
   "source": [
    "# Set system path\n",
    "\n",
    "path = r'C:\\Users\\Stony\\OneDrive\\CareerFoundry\\Data Specialization Course\\envs\\Citi-Bike'\n",
    "#path = r'C:\\Users\\Stony\\Videos\\CareerFoundry\\Citi-Bike'"
   ]
  },
  {
   "cell_type": "code",
   "execution_count": 3,
   "metadata": {},
   "outputs": [
    {
     "name": "stderr",
     "output_type": "stream",
     "text": [
      "C:\\Users\\Stony\\AppData\\Local\\Temp\\ipykernel_21132\\1699888674.py:3: DtypeWarning: Columns (6,8) have mixed types. Specify dtype option on import or set low_memory=False.\n",
      "  df_final = pd.read_csv(os.path.join(path, '02 Data', 'Prepared Data', 'final_data.csv'), index_col = 0)\n"
     ]
    }
   ],
   "source": [
    "# Import dataset from prior exercise\n",
    "\n",
    "df_final = pd.read_csv(os.path.join(path, '02 Data', 'Prepared Data', 'final_data.csv'), index_col = 0)"
   ]
  },
  {
   "cell_type": "code",
   "execution_count": 5,
   "metadata": {},
   "outputs": [
    {
     "data": {
      "text/plain": [
       "ride_id                object\n",
       "rideable_type          object\n",
       "started_at             object\n",
       "ended_at               object\n",
       "start_station_name     object\n",
       "start_station_id       object\n",
       "end_station_name       object\n",
       "end_station_id         object\n",
       "start_lat             float64\n",
       "start_lng             float64\n",
       "end_lat               float64\n",
       "end_lng               float64\n",
       "member_casual          object\n",
       "avgTemp               float64\n",
       "bike_rides_daily        int64\n",
       "started                object\n",
       "ride_date              object\n",
       "dtype: object"
      ]
     },
     "execution_count": 5,
     "metadata": {},
     "output_type": "execute_result"
    }
   ],
   "source": [
    "df_final.dtypes"
   ]
  },
  {
   "cell_type": "code",
   "execution_count": 6,
   "metadata": {},
   "outputs": [],
   "source": [
    "# Create a value column and group by start and end station \n",
    "\n",
    "df_final['value'] = 1\n",
    "df_group = df_final.groupby(['end_station_name', 'start_station_name', ]).agg({'value':'count', 'end_lat':'mean', 'end_lng':'mean', 'start_lat':'mean', 'start_lng':'mean'}).reset_index()"
   ]
  },
  {
   "cell_type": "code",
   "execution_count": 7,
   "metadata": {},
   "outputs": [
    {
     "data": {
      "text/html": [
       "<div>\n",
       "<style scoped>\n",
       "    .dataframe tbody tr th:only-of-type {\n",
       "        vertical-align: middle;\n",
       "    }\n",
       "\n",
       "    .dataframe tbody tr th {\n",
       "        vertical-align: top;\n",
       "    }\n",
       "\n",
       "    .dataframe thead th {\n",
       "        text-align: right;\n",
       "    }\n",
       "</style>\n",
       "<table border=\"1\" class=\"dataframe\">\n",
       "  <thead>\n",
       "    <tr style=\"text-align: right;\">\n",
       "      <th></th>\n",
       "      <th>end_station_name</th>\n",
       "      <th>start_station_name</th>\n",
       "      <th>value</th>\n",
       "      <th>end_lat</th>\n",
       "      <th>end_lng</th>\n",
       "      <th>start_lat</th>\n",
       "      <th>start_lng</th>\n",
       "    </tr>\n",
       "  </thead>\n",
       "  <tbody>\n",
       "    <tr>\n",
       "      <th>0</th>\n",
       "      <td>1 Ave &amp; E 110 St</td>\n",
       "      <td>1 Ave &amp; E 110 St</td>\n",
       "      <td>791</td>\n",
       "      <td>40.792327</td>\n",
       "      <td>-73.938300</td>\n",
       "      <td>40.792335</td>\n",
       "      <td>-73.938280</td>\n",
       "    </tr>\n",
       "    <tr>\n",
       "      <th>1</th>\n",
       "      <td>1 Ave &amp; E 110 St</td>\n",
       "      <td>1 Ave &amp; E 16 St</td>\n",
       "      <td>5</td>\n",
       "      <td>40.792327</td>\n",
       "      <td>-73.938300</td>\n",
       "      <td>40.732295</td>\n",
       "      <td>-73.981624</td>\n",
       "    </tr>\n",
       "    <tr>\n",
       "      <th>2</th>\n",
       "      <td>1 Ave &amp; E 110 St</td>\n",
       "      <td>1 Ave &amp; E 18 St</td>\n",
       "      <td>6</td>\n",
       "      <td>40.792327</td>\n",
       "      <td>-73.938300</td>\n",
       "      <td>40.733910</td>\n",
       "      <td>-73.980488</td>\n",
       "    </tr>\n",
       "    <tr>\n",
       "      <th>3</th>\n",
       "      <td>1 Ave &amp; E 110 St</td>\n",
       "      <td>1 Ave &amp; E 30 St</td>\n",
       "      <td>25</td>\n",
       "      <td>40.792327</td>\n",
       "      <td>-73.938300</td>\n",
       "      <td>40.741497</td>\n",
       "      <td>-73.976623</td>\n",
       "    </tr>\n",
       "    <tr>\n",
       "      <th>4</th>\n",
       "      <td>1 Ave &amp; E 110 St</td>\n",
       "      <td>1 Ave &amp; E 39 St</td>\n",
       "      <td>78</td>\n",
       "      <td>40.792327</td>\n",
       "      <td>-73.938300</td>\n",
       "      <td>40.747149</td>\n",
       "      <td>-73.971126</td>\n",
       "    </tr>\n",
       "    <tr>\n",
       "      <th>...</th>\n",
       "      <td>...</td>\n",
       "      <td>...</td>\n",
       "      <td>...</td>\n",
       "      <td>...</td>\n",
       "      <td>...</td>\n",
       "      <td>...</td>\n",
       "      <td>...</td>\n",
       "    </tr>\n",
       "    <tr>\n",
       "      <th>1013392</th>\n",
       "      <td>Yankee Ferry Terminal</td>\n",
       "      <td>West St &amp; Liberty St</td>\n",
       "      <td>3</td>\n",
       "      <td>40.687066</td>\n",
       "      <td>-74.016756</td>\n",
       "      <td>40.711444</td>\n",
       "      <td>-74.014847</td>\n",
       "    </tr>\n",
       "    <tr>\n",
       "      <th>1013393</th>\n",
       "      <td>Yankee Ferry Terminal</td>\n",
       "      <td>Whitehall St &amp; Bridge St</td>\n",
       "      <td>1</td>\n",
       "      <td>40.687066</td>\n",
       "      <td>-74.016756</td>\n",
       "      <td>40.703662</td>\n",
       "      <td>-74.013181</td>\n",
       "    </tr>\n",
       "    <tr>\n",
       "      <th>1013394</th>\n",
       "      <td>Yankee Ferry Terminal</td>\n",
       "      <td>William St &amp; Pine St</td>\n",
       "      <td>2</td>\n",
       "      <td>40.687066</td>\n",
       "      <td>-74.016756</td>\n",
       "      <td>40.707179</td>\n",
       "      <td>-74.008873</td>\n",
       "    </tr>\n",
       "    <tr>\n",
       "      <th>1013395</th>\n",
       "      <td>Yankee Ferry Terminal</td>\n",
       "      <td>Yankee Ferry Terminal</td>\n",
       "      <td>5759</td>\n",
       "      <td>40.687066</td>\n",
       "      <td>-74.016756</td>\n",
       "      <td>40.687067</td>\n",
       "      <td>-74.016754</td>\n",
       "    </tr>\n",
       "    <tr>\n",
       "      <th>1013396</th>\n",
       "      <td>York St &amp; Marin Blvd</td>\n",
       "      <td>Greenwich St &amp; W Houston St</td>\n",
       "      <td>1</td>\n",
       "      <td>40.716615</td>\n",
       "      <td>-74.042412</td>\n",
       "      <td>40.728846</td>\n",
       "      <td>-74.008591</td>\n",
       "    </tr>\n",
       "  </tbody>\n",
       "</table>\n",
       "<p>1013397 rows × 7 columns</p>\n",
       "</div>"
      ],
      "text/plain": [
       "              end_station_name           start_station_name  value    end_lat  \\\n",
       "0             1 Ave & E 110 St             1 Ave & E 110 St    791  40.792327   \n",
       "1             1 Ave & E 110 St              1 Ave & E 16 St      5  40.792327   \n",
       "2             1 Ave & E 110 St              1 Ave & E 18 St      6  40.792327   \n",
       "3             1 Ave & E 110 St              1 Ave & E 30 St     25  40.792327   \n",
       "4             1 Ave & E 110 St              1 Ave & E 39 St     78  40.792327   \n",
       "...                        ...                          ...    ...        ...   \n",
       "1013392  Yankee Ferry Terminal         West St & Liberty St      3  40.687066   \n",
       "1013393  Yankee Ferry Terminal     Whitehall St & Bridge St      1  40.687066   \n",
       "1013394  Yankee Ferry Terminal         William St & Pine St      2  40.687066   \n",
       "1013395  Yankee Ferry Terminal        Yankee Ferry Terminal   5759  40.687066   \n",
       "1013396   York St & Marin Blvd  Greenwich St & W Houston St      1  40.716615   \n",
       "\n",
       "           end_lng  start_lat  start_lng  \n",
       "0       -73.938300  40.792335 -73.938280  \n",
       "1       -73.938300  40.732295 -73.981624  \n",
       "2       -73.938300  40.733910 -73.980488  \n",
       "3       -73.938300  40.741497 -73.976623  \n",
       "4       -73.938300  40.747149 -73.971126  \n",
       "...            ...        ...        ...  \n",
       "1013392 -74.016756  40.711444 -74.014847  \n",
       "1013393 -74.016756  40.703662 -74.013181  \n",
       "1013394 -74.016756  40.707179 -74.008873  \n",
       "1013395 -74.016756  40.687067 -74.016754  \n",
       "1013396 -74.042412  40.728846 -74.008591  \n",
       "\n",
       "[1013397 rows x 7 columns]"
      ]
     },
     "execution_count": 7,
     "metadata": {},
     "output_type": "execute_result"
    }
   ],
   "source": [
    "df_group"
   ]
  },
  {
   "cell_type": "code",
   "execution_count": 10,
   "metadata": {},
   "outputs": [],
   "source": [
    "# Get the top 100 routes from the top starting stations\n",
    "\n",
    "top100 = df_group.nlargest(100, 'value')"
   ]
  },
  {
   "cell_type": "code",
   "execution_count": 12,
   "metadata": {},
   "outputs": [
    {
     "name": "stdout",
     "output_type": "stream",
     "text": [
      "388724\n",
      "(100, 7)\n"
     ]
    }
   ],
   "source": [
    "print(top100['value'].sum())\n",
    "print(top100.shape)"
   ]
  },
  {
   "cell_type": "code",
   "execution_count": 13,
   "metadata": {},
   "outputs": [
    {
     "data": {
      "text/plain": [
       "count      100.000000\n",
       "mean      3887.240000\n",
       "std       1431.685438\n",
       "min       2729.000000\n",
       "25%       2977.750000\n",
       "50%       3432.500000\n",
       "75%       4231.500000\n",
       "max      12041.000000\n",
       "Name: value, dtype: float64"
      ]
     },
     "execution_count": 13,
     "metadata": {},
     "output_type": "execute_result"
    }
   ],
   "source": [
    "top100['value'].describe()"
   ]
  },
  {
   "cell_type": "markdown",
   "metadata": {},
   "source": []
  },
  {
   "cell_type": "code",
   "execution_count": 15,
   "metadata": {},
   "outputs": [
    {
     "data": {
      "image/png": "[encoded data removed]",
      "text/plain": [
       "<Figure size 640x480 with 1 Axes>"
      ]
     },
     "metadata": {},
     "output_type": "display_data"
    }
   ],
   "source": [
    "top100['value'].hist(bins = 100)\n",
    "plt.show()"
   ]
  },
  {
   "cell_type": "code",
   "execution_count": 16,
   "metadata": {},
   "outputs": [
    {
     "data": {
      "text/plain": [
       "[]"
      ]
     },
     "execution_count": 16,
     "metadata": {},
     "output_type": "execute_result"
    },
    {
     "data": {
      "image/png": "[encoded data removed]",
      "text/plain": [
       "<Figure size 640x480 with 1 Axes>"
      ]
     },
     "metadata": {},
     "output_type": "display_data"
    }
   ],
   "source": [
    "b_plot = top100.boxplot(column = 'value') \n",
    "b_plot.plot()"
   ]
  },
  {
   "cell_type": "code",
   "execution_count": 17,
   "metadata": {},
   "outputs": [
    {
     "data": {
      "text/plain": [
       "value\n",
       "2924    2\n",
       "3713    2\n",
       "2862    2\n",
       "5826    1\n",
       "3325    1\n",
       "       ..\n",
       "3229    1\n",
       "3597    1\n",
       "3171    1\n",
       "4299    1\n",
       "5759    1\n",
       "Name: count, Length: 97, dtype: int64"
      ]
     },
     "execution_count": 17,
     "metadata": {},
     "output_type": "execute_result"
    }
   ],
   "source": [
    "top100['value'].sort_index().value_counts()"
   ]
  },
  {
   "cell_type": "code",
   "execution_count": 18,
   "metadata": {},
   "outputs": [],
   "source": [
    "top100.to_csv(os.path.join(path, '02 Data', 'Prepared Data', 'df_top_100_routes.csv'))"
   ]
  },
  {
   "cell_type": "code",
   "execution_count": 19,
   "metadata": {},
   "outputs": [
    {
     "data": {
      "text/html": [
       "<div>\n",
       "<style scoped>\n",
       "    .dataframe tbody tr th:only-of-type {\n",
       "        vertical-align: middle;\n",
       "    }\n",
       "\n",
       "    .dataframe tbody tr th {\n",
       "        vertical-align: top;\n",
       "    }\n",
       "\n",
       "    .dataframe thead th {\n",
       "        text-align: right;\n",
       "    }\n",
       "</style>\n",
       "<table border=\"1\" class=\"dataframe\">\n",
       "  <thead>\n",
       "    <tr style=\"text-align: right;\">\n",
       "      <th></th>\n",
       "      <th>end_station_name</th>\n",
       "      <th>start_station_name</th>\n",
       "      <th>value</th>\n",
       "      <th>end_lat</th>\n",
       "      <th>end_lng</th>\n",
       "      <th>start_lat</th>\n",
       "      <th>start_lng</th>\n",
       "    </tr>\n",
       "  </thead>\n",
       "  <tbody>\n",
       "    <tr>\n",
       "      <th>295963</th>\n",
       "      <td>Central Park S &amp; 6 Ave</td>\n",
       "      <td>Central Park S &amp; 6 Ave</td>\n",
       "      <td>12041</td>\n",
       "      <td>40.765909</td>\n",
       "      <td>-73.976342</td>\n",
       "      <td>40.765913</td>\n",
       "      <td>-73.976346</td>\n",
       "    </tr>\n",
       "    <tr>\n",
       "      <th>148889</th>\n",
       "      <td>7 Ave &amp; Central Park South</td>\n",
       "      <td>7 Ave &amp; Central Park South</td>\n",
       "      <td>8541</td>\n",
       "      <td>40.766741</td>\n",
       "      <td>-73.979069</td>\n",
       "      <td>40.766733</td>\n",
       "      <td>-73.979084</td>\n",
       "    </tr>\n",
       "    <tr>\n",
       "      <th>783607</th>\n",
       "      <td>Roosevelt Island Tramway</td>\n",
       "      <td>Roosevelt Island Tramway</td>\n",
       "      <td>8213</td>\n",
       "      <td>40.757284</td>\n",
       "      <td>-73.953600</td>\n",
       "      <td>40.757282</td>\n",
       "      <td>-73.953597</td>\n",
       "    </tr>\n",
       "    <tr>\n",
       "      <th>546962</th>\n",
       "      <td>Grand Army Plaza &amp; Central Park S</td>\n",
       "      <td>Grand Army Plaza &amp; Central Park S</td>\n",
       "      <td>7287</td>\n",
       "      <td>40.764397</td>\n",
       "      <td>-73.973715</td>\n",
       "      <td>40.764393</td>\n",
       "      <td>-73.973730</td>\n",
       "    </tr>\n",
       "    <tr>\n",
       "      <th>801965</th>\n",
       "      <td>Soissons Landing</td>\n",
       "      <td>Soissons Landing</td>\n",
       "      <td>7275</td>\n",
       "      <td>40.692317</td>\n",
       "      <td>-74.014866</td>\n",
       "      <td>40.692320</td>\n",
       "      <td>-74.014865</td>\n",
       "    </tr>\n",
       "  </tbody>\n",
       "</table>\n",
       "</div>"
      ],
      "text/plain": [
       "                         end_station_name                 start_station_name  \\\n",
       "295963             Central Park S & 6 Ave             Central Park S & 6 Ave   \n",
       "148889         7 Ave & Central Park South         7 Ave & Central Park South   \n",
       "783607           Roosevelt Island Tramway           Roosevelt Island Tramway   \n",
       "546962  Grand Army Plaza & Central Park S  Grand Army Plaza & Central Park S   \n",
       "801965                   Soissons Landing                   Soissons Landing   \n",
       "\n",
       "        value    end_lat    end_lng  start_lat  start_lng  \n",
       "295963  12041  40.765909 -73.976342  40.765913 -73.976346  \n",
       "148889   8541  40.766741 -73.979069  40.766733 -73.979084  \n",
       "783607   8213  40.757284 -73.953600  40.757282 -73.953597  \n",
       "546962   7287  40.764397 -73.973715  40.764393 -73.973730  \n",
       "801965   7275  40.692317 -74.014866  40.692320 -74.014865  "
      ]
     },
     "execution_count": 19,
     "metadata": {},
     "output_type": "execute_result"
    }
   ],
   "source": [
    "top100.head()"
   ]
  },
  {
   "cell_type": "markdown",
   "metadata": {},
   "source": []
  },
  {
   "cell_type": "code",
   "execution_count": 17,
   "metadata": {},
   "outputs": [
    {
     "name": "stdout",
     "output_type": "stream",
     "text": [
      "                            end_station_name    end_lat    end_lng  \\\n",
      "1116657                  Broadway & W 133 St  40.819034 -73.956156   \n",
      "837673              Amsterdam Ave & W 172 St  40.842173 -73.935111   \n",
      "3502873             Pacific St & Classon Ave  40.679194 -73.958790   \n",
      "3210868                 Madison Av & E 51 St  40.758630 -73.975130   \n",
      "772862   Adam Clayton Powell Blvd & W 138 St  40.816960 -73.942296   \n",
      "...                                      ...        ...        ...   \n",
      "1754750                      E 11 St & 1 Ave  40.729538 -73.984267   \n",
      "2071624                       E 4 St & 2 Ave  40.726281 -73.989780   \n",
      "4971042             Wilson Ave & Troutman St  40.701660 -73.927540   \n",
      "1025009                  Bond St & Bergen St  40.684967 -73.986208   \n",
      "4398802                      W 35 St & 9 Ave  40.754145 -73.996089   \n",
      "\n",
      "                          start_station_name  start_lat  start_lng  value  \n",
      "1116657             E 103 St & Lexington Ave  40.790208 -73.947517      1  \n",
      "837673              Wadsworth Ave & W 175 St  40.846002 -73.937678      1  \n",
      "3502873              Macon St & Nostrand Ave  40.681021 -73.949849      1  \n",
      "3210868                      W 18 St & 6 Ave  40.739536 -73.994543      1  \n",
      "772862   W 144 St & Adam Clayton Powell Blvd  40.820899 -73.939221      1  \n",
      "...                                      ...        ...        ...    ...  \n",
      "1754750                      E 15 St & 3 Ave  40.734088 -73.986882      1  \n",
      "2071624                 Allen St & Hester St  40.715604 -73.992135      1  \n",
      "4971042          Forest Ave & Summerfield St  40.699204 -73.897748      1  \n",
      "1025009                  Bond St & Bergen St  40.684922 -73.986153      1  \n",
      "4398802           7 Ave & Central Park South  40.766529 -73.979041      1  \n",
      "\n",
      "[1501383 rows x 7 columns]\n"
     ]
    }
   ],
   "source": [
    "# Take a 30% sample of the dataframe to create the KeplerGl plot\n",
    "\n",
    "df_sample = df_group.sample(frac=0.3, random_state=1)\n",
    "print(df_sample)"
   ]
  },
  {
   "cell_type": "code",
   "execution_count": 19,
   "metadata": {},
   "outputs": [
    {
     "name": "stdout",
     "output_type": "stream",
     "text": [
      "User Guide: https://docs.kepler.gl/docs/keplergl-jupyter\n"
     ]
    },
    {
     "data": {
      "application/vnd.jupyter.widget-view+json": {
       "model_id": "b4afc0769a1b4da09d65bc39ff90eb01",
       "version_major": 2,
       "version_minor": 0
      },
      "text/plain": [
       "KeplerGl(data={'data_1':                             end_station_name    end_lat    end_lng  \\\n",
       "1116657        …"
      ]
     },
     "metadata": {},
     "output_type": "display_data"
    }
   ],
   "source": [
    "# Create KeplerGl instance\n",
    "\n",
    "m = KeplerGl(height = 900, data={\"data_1\": df_sample})\n",
    "m"
   ]
  },
  {
   "cell_type": "markdown",
   "metadata": {},
   "source": [
    "I did not change any colors yet"
   ]
  },
  {
   "cell_type": "code",
   "execution_count": 33,
   "metadata": {},
   "outputs": [],
   "source": [
    "# Save a configuration file\n",
    "\n",
    "config = m.config"
   ]
  },
  {
   "cell_type": "code",
   "execution_count": null,
   "metadata": {},
   "outputs": [],
   "source": [
    "# Save the KeplerGl map to a HTML file\n",
    "\n",
    "m.save_to_html(file_name='NYC Bike Trips Aggregated.html', read_only = False, config = config)"
   ]
  },
  {
   "cell_type": "code",
   "execution_count": null,
   "metadata": {},
   "outputs": [],
   "source": []
  }
 ],
 "metadata": {
  "kernelspec": {
   "display_name": "venv_citibike",
   "language": "python",
   "name": "python3"
  },
  "language_info": {
   "codemirror_mode": {
    "name": "ipython",
    "version": 3
   },
   "file_extension": ".py",
   "mimetype": "text/x-python",
   "name": "python",
   "nbconvert_exporter": "python",
   "pygments_lexer": "ipython3",
   "version": "3.12.7"
  }
 },
 "nbformat": 4,
 "nbformat_minor": 2
}
