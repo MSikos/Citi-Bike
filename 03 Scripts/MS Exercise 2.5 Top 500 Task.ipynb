{
 "cells": [
  {
   "cell_type": "code",
   "execution_count": 1,
   "metadata": {},
   "outputs": [],
   "source": [
    "import pandas as pd\n",
    "import numpy as np\n",
    "import os\n",
    "from keplergl import KeplerGl\n",
    "from pyproj import CRS\n",
    "import numpy as np\n",
    "from matplotlib import pyplot as plt\n",
    "import json"
   ]
  },
  {
   "cell_type": "markdown",
   "metadata": {},
   "source": [
    "**Link to GitHib repository: https://github.com/MSikos**"
   ]
  },
  {
   "cell_type": "code",
   "execution_count": 2,
   "metadata": {},
   "outputs": [],
   "source": [
    "# Set system path\n",
    "\n",
    "path = r'C:\\Users\\Stony\\OneDrive\\CareerFoundry\\Data Specialization Course\\envs\\Citi-Bike'\n",
    "#path = r'C:\\Users\\Stony\\Videos\\CareerFoundry\\Citi-Bike'"
   ]
  },
  {
   "cell_type": "code",
   "execution_count": 3,
   "metadata": {},
   "outputs": [
    {
     "name": "stderr",
     "output_type": "stream",
     "text": [
      "C:\\Users\\Stony\\AppData\\Local\\Temp\\ipykernel_3280\\1699888674.py:3: DtypeWarning: Columns (6,8) have mixed types. Specify dtype option on import or set low_memory=False.\n",
      "  df_final = pd.read_csv(os.path.join(path, '02 Data', 'Prepared Data', 'final_data.csv'), index_col = 0)\n"
     ]
    }
   ],
   "source": [
    "# Import dataset from prior exercise\n",
    "\n",
    "df_final = pd.read_csv(os.path.join(path, '02 Data', 'Prepared Data', 'final_data.csv'), index_col = 0)"
   ]
  },
  {
   "cell_type": "code",
   "execution_count": 4,
   "metadata": {},
   "outputs": [
    {
     "data": {
      "text/plain": [
       "ride_id                object\n",
       "rideable_type          object\n",
       "started_at             object\n",
       "ended_at               object\n",
       "start_station_name     object\n",
       "start_station_id       object\n",
       "end_station_name       object\n",
       "end_station_id         object\n",
       "start_lat             float64\n",
       "start_lng             float64\n",
       "end_lat               float64\n",
       "end_lng               float64\n",
       "member_casual          object\n",
       "avgTemp               float64\n",
       "bike_rides_daily        int64\n",
       "started                object\n",
       "ride_date              object\n",
       "dtype: object"
      ]
     },
     "execution_count": 4,
     "metadata": {},
     "output_type": "execute_result"
    }
   ],
   "source": [
    "df_final.dtypes"
   ]
  },
  {
   "cell_type": "code",
   "execution_count": 4,
   "metadata": {},
   "outputs": [],
   "source": [
    "# Create a value column and group by start and end station \n",
    "\n",
    "df_final['value'] = 1\n",
    "df_group = df_final.groupby(['end_station_name', 'start_station_name', ]).agg({'value':'count', 'end_lat':'mean', 'end_lng':'mean', 'start_lat':'mean', 'start_lng':'mean'}).reset_index()"
   ]
  },
  {
   "cell_type": "code",
   "execution_count": 6,
   "metadata": {},
   "outputs": [
    {
     "data": {
      "text/html": [
       "<div>\n",
       "<style scoped>\n",
       "    .dataframe tbody tr th:only-of-type {\n",
       "        vertical-align: middle;\n",
       "    }\n",
       "\n",
       "    .dataframe tbody tr th {\n",
       "        vertical-align: top;\n",
       "    }\n",
       "\n",
       "    .dataframe thead th {\n",
       "        text-align: right;\n",
       "    }\n",
       "</style>\n",
       "<table border=\"1\" class=\"dataframe\">\n",
       "  <thead>\n",
       "    <tr style=\"text-align: right;\">\n",
       "      <th></th>\n",
       "      <th>end_station_name</th>\n",
       "      <th>start_station_name</th>\n",
       "      <th>value</th>\n",
       "      <th>end_lat</th>\n",
       "      <th>end_lng</th>\n",
       "      <th>start_lat</th>\n",
       "      <th>start_lng</th>\n",
       "    </tr>\n",
       "  </thead>\n",
       "  <tbody>\n",
       "    <tr>\n",
       "      <th>0</th>\n",
       "      <td>1 Ave &amp; E 110 St</td>\n",
       "      <td>1 Ave &amp; E 110 St</td>\n",
       "      <td>791</td>\n",
       "      <td>40.792327</td>\n",
       "      <td>-73.938300</td>\n",
       "      <td>40.792335</td>\n",
       "      <td>-73.938280</td>\n",
       "    </tr>\n",
       "    <tr>\n",
       "      <th>1</th>\n",
       "      <td>1 Ave &amp; E 110 St</td>\n",
       "      <td>1 Ave &amp; E 16 St</td>\n",
       "      <td>5</td>\n",
       "      <td>40.792327</td>\n",
       "      <td>-73.938300</td>\n",
       "      <td>40.732295</td>\n",
       "      <td>-73.981624</td>\n",
       "    </tr>\n",
       "    <tr>\n",
       "      <th>2</th>\n",
       "      <td>1 Ave &amp; E 110 St</td>\n",
       "      <td>1 Ave &amp; E 18 St</td>\n",
       "      <td>6</td>\n",
       "      <td>40.792327</td>\n",
       "      <td>-73.938300</td>\n",
       "      <td>40.733910</td>\n",
       "      <td>-73.980488</td>\n",
       "    </tr>\n",
       "    <tr>\n",
       "      <th>3</th>\n",
       "      <td>1 Ave &amp; E 110 St</td>\n",
       "      <td>1 Ave &amp; E 30 St</td>\n",
       "      <td>25</td>\n",
       "      <td>40.792327</td>\n",
       "      <td>-73.938300</td>\n",
       "      <td>40.741497</td>\n",
       "      <td>-73.976623</td>\n",
       "    </tr>\n",
       "    <tr>\n",
       "      <th>4</th>\n",
       "      <td>1 Ave &amp; E 110 St</td>\n",
       "      <td>1 Ave &amp; E 39 St</td>\n",
       "      <td>78</td>\n",
       "      <td>40.792327</td>\n",
       "      <td>-73.938300</td>\n",
       "      <td>40.747149</td>\n",
       "      <td>-73.971126</td>\n",
       "    </tr>\n",
       "    <tr>\n",
       "      <th>...</th>\n",
       "      <td>...</td>\n",
       "      <td>...</td>\n",
       "      <td>...</td>\n",
       "      <td>...</td>\n",
       "      <td>...</td>\n",
       "      <td>...</td>\n",
       "      <td>...</td>\n",
       "    </tr>\n",
       "    <tr>\n",
       "      <th>1013392</th>\n",
       "      <td>Yankee Ferry Terminal</td>\n",
       "      <td>West St &amp; Liberty St</td>\n",
       "      <td>3</td>\n",
       "      <td>40.687066</td>\n",
       "      <td>-74.016756</td>\n",
       "      <td>40.711444</td>\n",
       "      <td>-74.014847</td>\n",
       "    </tr>\n",
       "    <tr>\n",
       "      <th>1013393</th>\n",
       "      <td>Yankee Ferry Terminal</td>\n",
       "      <td>Whitehall St &amp; Bridge St</td>\n",
       "      <td>1</td>\n",
       "      <td>40.687066</td>\n",
       "      <td>-74.016756</td>\n",
       "      <td>40.703662</td>\n",
       "      <td>-74.013181</td>\n",
       "    </tr>\n",
       "    <tr>\n",
       "      <th>1013394</th>\n",
       "      <td>Yankee Ferry Terminal</td>\n",
       "      <td>William St &amp; Pine St</td>\n",
       "      <td>2</td>\n",
       "      <td>40.687066</td>\n",
       "      <td>-74.016756</td>\n",
       "      <td>40.707179</td>\n",
       "      <td>-74.008873</td>\n",
       "    </tr>\n",
       "    <tr>\n",
       "      <th>1013395</th>\n",
       "      <td>Yankee Ferry Terminal</td>\n",
       "      <td>Yankee Ferry Terminal</td>\n",
       "      <td>5759</td>\n",
       "      <td>40.687066</td>\n",
       "      <td>-74.016756</td>\n",
       "      <td>40.687067</td>\n",
       "      <td>-74.016754</td>\n",
       "    </tr>\n",
       "    <tr>\n",
       "      <th>1013396</th>\n",
       "      <td>York St &amp; Marin Blvd</td>\n",
       "      <td>Greenwich St &amp; W Houston St</td>\n",
       "      <td>1</td>\n",
       "      <td>40.716615</td>\n",
       "      <td>-74.042412</td>\n",
       "      <td>40.728846</td>\n",
       "      <td>-74.008591</td>\n",
       "    </tr>\n",
       "  </tbody>\n",
       "</table>\n",
       "<p>1013397 rows × 7 columns</p>\n",
       "</div>"
      ],
      "text/plain": [
       "              end_station_name           start_station_name  value    end_lat  \\\n",
       "0             1 Ave & E 110 St             1 Ave & E 110 St    791  40.792327   \n",
       "1             1 Ave & E 110 St              1 Ave & E 16 St      5  40.792327   \n",
       "2             1 Ave & E 110 St              1 Ave & E 18 St      6  40.792327   \n",
       "3             1 Ave & E 110 St              1 Ave & E 30 St     25  40.792327   \n",
       "4             1 Ave & E 110 St              1 Ave & E 39 St     78  40.792327   \n",
       "...                        ...                          ...    ...        ...   \n",
       "1013392  Yankee Ferry Terminal         West St & Liberty St      3  40.687066   \n",
       "1013393  Yankee Ferry Terminal     Whitehall St & Bridge St      1  40.687066   \n",
       "1013394  Yankee Ferry Terminal         William St & Pine St      2  40.687066   \n",
       "1013395  Yankee Ferry Terminal        Yankee Ferry Terminal   5759  40.687066   \n",
       "1013396   York St & Marin Blvd  Greenwich St & W Houston St      1  40.716615   \n",
       "\n",
       "           end_lng  start_lat  start_lng  \n",
       "0       -73.938300  40.792335 -73.938280  \n",
       "1       -73.938300  40.732295 -73.981624  \n",
       "2       -73.938300  40.733910 -73.980488  \n",
       "3       -73.938300  40.741497 -73.976623  \n",
       "4       -73.938300  40.747149 -73.971126  \n",
       "...            ...        ...        ...  \n",
       "1013392 -74.016756  40.711444 -74.014847  \n",
       "1013393 -74.016756  40.703662 -74.013181  \n",
       "1013394 -74.016756  40.707179 -74.008873  \n",
       "1013395 -74.016756  40.687067 -74.016754  \n",
       "1013396 -74.042412  40.728846 -74.008591  \n",
       "\n",
       "[1013397 rows x 7 columns]"
      ]
     },
     "execution_count": 6,
     "metadata": {},
     "output_type": "execute_result"
    }
   ],
   "source": [
    "df_group"
   ]
  },
  {
   "cell_type": "code",
   "execution_count": 5,
   "metadata": {},
   "outputs": [],
   "source": [
    "# Get the top 100 routes from the top starting stations\n",
    "\n",
    "top500 = df_group.nlargest(500, 'value')"
   ]
  },
  {
   "cell_type": "code",
   "execution_count": 6,
   "metadata": {},
   "outputs": [
    {
     "name": "stdout",
     "output_type": "stream",
     "text": [
      "1151069\n",
      "(500, 7)\n"
     ]
    }
   ],
   "source": [
    "print(top500['value'].sum())\n",
    "print(top500.shape)"
   ]
  },
  {
   "cell_type": "code",
   "execution_count": 9,
   "metadata": {},
   "outputs": [
    {
     "data": {
      "text/plain": [
       "count      500.000000\n",
       "mean      2302.138000\n",
       "std       1057.697863\n",
       "min       1518.000000\n",
       "25%       1670.000000\n",
       "50%       1931.500000\n",
       "75%       2517.250000\n",
       "max      12041.000000\n",
       "Name: value, dtype: float64"
      ]
     },
     "execution_count": 9,
     "metadata": {},
     "output_type": "execute_result"
    }
   ],
   "source": [
    "top500['value'].describe()"
   ]
  },
  {
   "cell_type": "markdown",
   "metadata": {},
   "source": []
  },
  {
   "cell_type": "code",
   "execution_count": 10,
   "metadata": {},
   "outputs": [
    {
     "data": {
      "image/png": "[encoded data removed]",
      "text/plain": [
       "<Figure size 640x480 with 1 Axes>"
      ]
     },
     "metadata": {},
     "output_type": "display_data"
    }
   ],
   "source": [
    "top500['value'].hist(bins = 100)\n",
    "plt.show()"
   ]
  },
  {
   "cell_type": "code",
   "execution_count": 11,
   "metadata": {},
   "outputs": [
    {
     "data": {
      "text/plain": [
       "[]"
      ]
     },
     "execution_count": 11,
     "metadata": {},
     "output_type": "execute_result"
    },
    {
     "data": {
      "image/png": "[encoded data removed]",
      "text/plain": [
       "<Figure size 640x480 with 1 Axes>"
      ]
     },
     "metadata": {},
     "output_type": "display_data"
    }
   ],
   "source": [
    "b_plot = top500.boxplot(column = 'value') \n",
    "b_plot.plot()"
   ]
  },
  {
   "cell_type": "code",
   "execution_count": 7,
   "metadata": {},
   "outputs": [
    {
     "data": {
      "text/plain": [
       "value\n",
       "1655    5\n",
       "1782    3\n",
       "1864    3\n",
       "1573    3\n",
       "1616    3\n",
       "       ..\n",
       "2208    1\n",
       "1950    1\n",
       "2588    1\n",
       "1561    1\n",
       "1547    1\n",
       "Name: count, Length: 421, dtype: int64"
      ]
     },
     "execution_count": 7,
     "metadata": {},
     "output_type": "execute_result"
    }
   ],
   "source": [
    "top500['value'].sort_index().value_counts()"
   ]
  },
  {
   "cell_type": "code",
   "execution_count": 13,
   "metadata": {},
   "outputs": [],
   "source": [
    "top500.to_csv(os.path.join(path, '02 Data', 'Prepared Data', 'df_top_500_routes.csv'))"
   ]
  },
  {
   "cell_type": "code",
   "execution_count": 14,
   "metadata": {},
   "outputs": [
    {
     "data": {
      "text/html": [
       "<div>\n",
       "<style scoped>\n",
       "    .dataframe tbody tr th:only-of-type {\n",
       "        vertical-align: middle;\n",
       "    }\n",
       "\n",
       "    .dataframe tbody tr th {\n",
       "        vertical-align: top;\n",
       "    }\n",
       "\n",
       "    .dataframe thead th {\n",
       "        text-align: right;\n",
       "    }\n",
       "</style>\n",
       "<table border=\"1\" class=\"dataframe\">\n",
       "  <thead>\n",
       "    <tr style=\"text-align: right;\">\n",
       "      <th></th>\n",
       "      <th>end_station_name</th>\n",
       "      <th>start_station_name</th>\n",
       "      <th>value</th>\n",
       "      <th>end_lat</th>\n",
       "      <th>end_lng</th>\n",
       "      <th>start_lat</th>\n",
       "      <th>start_lng</th>\n",
       "    </tr>\n",
       "  </thead>\n",
       "  <tbody>\n",
       "    <tr>\n",
       "      <th>295963</th>\n",
       "      <td>Central Park S &amp; 6 Ave</td>\n",
       "      <td>Central Park S &amp; 6 Ave</td>\n",
       "      <td>12041</td>\n",
       "      <td>40.765909</td>\n",
       "      <td>-73.976342</td>\n",
       "      <td>40.765913</td>\n",
       "      <td>-73.976346</td>\n",
       "    </tr>\n",
       "    <tr>\n",
       "      <th>148889</th>\n",
       "      <td>7 Ave &amp; Central Park South</td>\n",
       "      <td>7 Ave &amp; Central Park South</td>\n",
       "      <td>8541</td>\n",
       "      <td>40.766741</td>\n",
       "      <td>-73.979069</td>\n",
       "      <td>40.766733</td>\n",
       "      <td>-73.979084</td>\n",
       "    </tr>\n",
       "    <tr>\n",
       "      <th>783607</th>\n",
       "      <td>Roosevelt Island Tramway</td>\n",
       "      <td>Roosevelt Island Tramway</td>\n",
       "      <td>8213</td>\n",
       "      <td>40.757284</td>\n",
       "      <td>-73.953600</td>\n",
       "      <td>40.757282</td>\n",
       "      <td>-73.953597</td>\n",
       "    </tr>\n",
       "    <tr>\n",
       "      <th>546962</th>\n",
       "      <td>Grand Army Plaza &amp; Central Park S</td>\n",
       "      <td>Grand Army Plaza &amp; Central Park S</td>\n",
       "      <td>7287</td>\n",
       "      <td>40.764397</td>\n",
       "      <td>-73.973715</td>\n",
       "      <td>40.764393</td>\n",
       "      <td>-73.973730</td>\n",
       "    </tr>\n",
       "    <tr>\n",
       "      <th>801965</th>\n",
       "      <td>Soissons Landing</td>\n",
       "      <td>Soissons Landing</td>\n",
       "      <td>7275</td>\n",
       "      <td>40.692317</td>\n",
       "      <td>-74.014866</td>\n",
       "      <td>40.692320</td>\n",
       "      <td>-74.014865</td>\n",
       "    </tr>\n",
       "  </tbody>\n",
       "</table>\n",
       "</div>"
      ],
      "text/plain": [
       "                         end_station_name                 start_station_name  \\\n",
       "295963             Central Park S & 6 Ave             Central Park S & 6 Ave   \n",
       "148889         7 Ave & Central Park South         7 Ave & Central Park South   \n",
       "783607           Roosevelt Island Tramway           Roosevelt Island Tramway   \n",
       "546962  Grand Army Plaza & Central Park S  Grand Army Plaza & Central Park S   \n",
       "801965                   Soissons Landing                   Soissons Landing   \n",
       "\n",
       "        value    end_lat    end_lng  start_lat  start_lng  \n",
       "295963  12041  40.765909 -73.976342  40.765913 -73.976346  \n",
       "148889   8541  40.766741 -73.979069  40.766733 -73.979084  \n",
       "783607   8213  40.757284 -73.953600  40.757282 -73.953597  \n",
       "546962   7287  40.764397 -73.973715  40.764393 -73.973730  \n",
       "801965   7275  40.692317 -74.014866  40.692320 -74.014865  "
      ]
     },
     "execution_count": 14,
     "metadata": {},
     "output_type": "execute_result"
    }
   ],
   "source": [
    "top500.head()"
   ]
  },
  {
   "cell_type": "markdown",
   "metadata": {},
   "source": []
  },
  {
   "cell_type": "code",
   "execution_count": 8,
   "metadata": {},
   "outputs": [
    {
     "name": "stdout",
     "output_type": "stream",
     "text": [
      "User Guide: https://docs.kepler.gl/docs/keplergl-jupyter\n"
     ]
    },
    {
     "data": {
      "application/vnd.jupyter.widget-view+json": {
       "model_id": "66b30f60e0cc410da74c5947e121bb02",
       "version_major": 2,
       "version_minor": 0
      },
      "text/plain": [
       "KeplerGl(data={'data_1':                          end_station_name                 start_station_name  \\\n",
       "29596…"
      ]
     },
     "metadata": {},
     "output_type": "display_data"
    }
   ],
   "source": [
    "# Create KeplerGl instance\n",
    "\n",
    "m = KeplerGl(height = 900, data={\"data_1\": top500})\n",
    "m"
   ]
  },
  {
   "cell_type": "markdown",
   "metadata": {},
   "source": [
    "I changed the colors of the starting stations to be a gradient from white to blue and the arc color was changed to a red color. I made these changes for two reasons: the first to make the data points and elements easier to see, and the second reason is to make the visualization easier to use for color-blind people."
   ]
  },
  {
   "cell_type": "markdown",
   "metadata": {},
   "source": [
    "Some areas of note are the stations around Central Park are busier stations, as are the stations around the Flatiron district, and the Theater district. There seems to be common factors with nearby parks, the proximity to the rivers that surround Manhatten, or sites that are popular wit tourists."
   ]
  },
  {
   "cell_type": "code",
   "execution_count": 9,
   "metadata": {},
   "outputs": [],
   "source": [
    "# Save a configuration file\n",
    "\n",
    "config = m.config\n",
    "with open('keplergl_config.json', 'w') as f:\n",
    "    json.dump(config, f) # Save the configuration as JSON"
   ]
  },
  {
   "cell_type": "code",
   "execution_count": 10,
   "metadata": {},
   "outputs": [
    {
     "name": "stdout",
     "output_type": "stream",
     "text": [
      "Map saved to NYC Bike Trips Top 500 Routes1.html!\n"
     ]
    }
   ],
   "source": [
    "# Save the KeplerGl map to a HTML file\n",
    "\n",
    "m.save_to_html(file_name='NYC Bike Trips Top 500 Routes1.html', read_only = False, config = config)"
   ]
  },
  {
   "cell_type": "code",
   "execution_count": null,
   "metadata": {},
   "outputs": [],
   "source": []
  }
 ],
 "metadata": {
  "kernelspec": {
   "display_name": "venv_citibike",
   "language": "python",
   "name": "python3"
  },
  "language_info": {
   "codemirror_mode": {
    "name": "ipython",
    "version": 3
   },
   "file_extension": ".py",
   "mimetype": "text/x-python",
   "name": "python",
   "nbconvert_exporter": "python",
   "pygments_lexer": "ipython3",
   "version": "3.12.7"
  }
 },
 "nbformat": 4,
 "nbformat_minor": 2
}
