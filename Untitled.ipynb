{
 "cells": [
  {
   "cell_type": "markdown",
   "id": "ea051ebd-b779-4598-a11e-ac69674ae4b7",
   "metadata": {},
   "source": [
    "# MSikos Achievement 2 Exercise 2.3: Fundamentals of Visualization Libraries Part 1"
   ]
  },
  {
   "cell_type": "markdown",
   "id": "04b3bb5d-7b92-4884-81e6-13ea95b4c3a0",
   "metadata": {},
   "source": [
    "## 1. Install libraries, set system path, and import dataset from prior exercise"
   ]
  },
  {
   "cell_type": "code",
   "execution_count": 30,
   "id": "f4205670-55b0-4679-aa9c-b9af31120075",
   "metadata": {},
   "outputs": [],
   "source": [
    "import pandas as pd\n",
    "import numpy as np\n",
    "import matplotlib as mpl\n",
    "mpl.rcParams['agg.path.chunksize'] = 10000\n",
    "import os\n",
    "from matplotlib import pyplot as plt\n",
    "from datetime import datetime as dt"
   ]
  },
  {
   "cell_type": "code",
   "execution_count": 17,
   "id": "c8cbb962-8561-4337-b766-3e0692c8c1df",
   "metadata": {},
   "outputs": [],
   "source": [
    "# Set system path\n",
    "path = r'C:\\Users\\Stony\\OneDrive\\CareerFoundry\\Data Specialization Course\\envs\\Citi-Bike'"
   ]
  },
  {
   "cell_type": "code",
   "execution_count": 18,
   "id": "89c31955-8e36-4a7f-a1eb-85534de39681",
   "metadata": {},
   "outputs": [
    {
     "name": "stderr",
     "output_type": "stream",
     "text": [
      "C:\\Users\\Stony\\AppData\\Local\\Temp\\ipykernel_9964\\945444868.py:2: DtypeWarning: Columns (6,8) have mixed types. Specify dtype option on import or set low_memory=False.\n",
      "  df_merged = pd.read_csv(os.path.join(path, '02 Data', 'Prepared Data', 'merged_data.csv'), index_col = 0)\n"
     ]
    }
   ],
   "source": [
    "# Import dataset from prior exercise\n",
    "df_merged = pd.read_csv(os.path.join(path, '02 Data', 'Prepared Data', 'merged_data.csv'), index_col = 0)"
   ]
  },
  {
   "cell_type": "code",
   "execution_count": 19,
   "id": "b4e84b84-f118-4d7b-8524-1f6a644896e7",
   "metadata": {},
   "outputs": [
    {
     "data": {
      "text/plain": [
       "Index(['ride_id', 'rideable_type', 'started_at', 'ended_at',\n",
       "       'start_station_name', 'start_station_id', 'end_station_name',\n",
       "       'end_station_id', 'start_lat', 'start_lng', 'end_lat', 'end_lng',\n",
       "       'member_casual', 'date', 'avgTemp', '_merge'],\n",
       "      dtype='object')"
      ]
     },
     "execution_count": 19,
     "metadata": {},
     "output_type": "execute_result"
    }
   ],
   "source": [
    "# Validate dataframe created successfully\n",
    "df_merged.columns"
   ]
  },
  {
   "cell_type": "markdown",
   "id": "f0681c59-38a8-454e-b1c9-42f333006047",
   "metadata": {},
   "source": [
    "## 2. Clean and verify the dataframe"
   ]
  },
  {
   "cell_type": "code",
   "execution_count": 20,
   "id": "b947a22e-35de-4c1b-9211-14261e40054b",
   "metadata": {},
   "outputs": [],
   "source": [
    "# Drop the _merge column that was created when we merged the datasets previously\n",
    "df_merged.drop(columns = {'_merge'}, inplace = True)"
   ]
  },
  {
   "cell_type": "code",
   "execution_count": 21,
   "id": "3c79b7a0-6149-430d-9cda-73932b915319",
   "metadata": {},
   "outputs": [
    {
     "data": {
      "text/html": [
       "<div>\n",
       "<style scoped>\n",
       "    .dataframe tbody tr th:only-of-type {\n",
       "        vertical-align: middle;\n",
       "    }\n",
       "\n",
       "    .dataframe tbody tr th {\n",
       "        vertical-align: top;\n",
       "    }\n",
       "\n",
       "    .dataframe thead th {\n",
       "        text-align: right;\n",
       "    }\n",
       "</style>\n",
       "<table border=\"1\" class=\"dataframe\">\n",
       "  <thead>\n",
       "    <tr style=\"text-align: right;\">\n",
       "      <th></th>\n",
       "      <th>ride_id</th>\n",
       "      <th>rideable_type</th>\n",
       "      <th>started_at</th>\n",
       "      <th>ended_at</th>\n",
       "      <th>start_station_name</th>\n",
       "      <th>start_station_id</th>\n",
       "      <th>end_station_name</th>\n",
       "      <th>end_station_id</th>\n",
       "      <th>start_lat</th>\n",
       "      <th>start_lng</th>\n",
       "      <th>end_lat</th>\n",
       "      <th>end_lng</th>\n",
       "      <th>member_casual</th>\n",
       "      <th>date</th>\n",
       "      <th>avgTemp</th>\n",
       "    </tr>\n",
       "  </thead>\n",
       "  <tbody>\n",
       "    <tr>\n",
       "      <th>0</th>\n",
       "      <td>BFD29218AB271154</td>\n",
       "      <td>electric_bike</td>\n",
       "      <td>2022-01-21 13:13:43.392</td>\n",
       "      <td>2022-01-21 13:22:31.463</td>\n",
       "      <td>West End Ave &amp; W 107 St</td>\n",
       "      <td>7650.05</td>\n",
       "      <td>Mt Morris Park W &amp; W 120 St</td>\n",
       "      <td>7685.14</td>\n",
       "      <td>40.802117</td>\n",
       "      <td>-73.968181</td>\n",
       "      <td>40.804038</td>\n",
       "      <td>-73.945925</td>\n",
       "      <td>member</td>\n",
       "      <td>2022-01-21</td>\n",
       "      <td>-6.0</td>\n",
       "    </tr>\n",
       "    <tr>\n",
       "      <th>1</th>\n",
       "      <td>7C953F2FD7BE1302</td>\n",
       "      <td>classic_bike</td>\n",
       "      <td>2022-01-10 11:30:54.162</td>\n",
       "      <td>2022-01-10 11:41:43.422</td>\n",
       "      <td>4 Ave &amp; 3 St</td>\n",
       "      <td>4028.04</td>\n",
       "      <td>Boerum Pl\\t&amp; Pacific St</td>\n",
       "      <td>4488.09</td>\n",
       "      <td>40.673746</td>\n",
       "      <td>-73.985649</td>\n",
       "      <td>40.688489</td>\n",
       "      <td>-73.991160</td>\n",
       "      <td>member</td>\n",
       "      <td>2022-01-10</td>\n",
       "      <td>1.6</td>\n",
       "    </tr>\n",
       "    <tr>\n",
       "      <th>2</th>\n",
       "      <td>95893ABD40CED4B8</td>\n",
       "      <td>electric_bike</td>\n",
       "      <td>2022-01-26 10:52:43.096</td>\n",
       "      <td>2022-01-26 11:06:35.227</td>\n",
       "      <td>1 Ave &amp; E 62 St</td>\n",
       "      <td>6753.08</td>\n",
       "      <td>5 Ave &amp; E 29 St</td>\n",
       "      <td>6248.06</td>\n",
       "      <td>40.761227</td>\n",
       "      <td>-73.960940</td>\n",
       "      <td>40.745168</td>\n",
       "      <td>-73.986831</td>\n",
       "      <td>member</td>\n",
       "      <td>2022-01-26</td>\n",
       "      <td>-2.3</td>\n",
       "    </tr>\n",
       "    <tr>\n",
       "      <th>3</th>\n",
       "      <td>F853B50772137378</td>\n",
       "      <td>classic_bike</td>\n",
       "      <td>2022-01-03 08:35:48.247</td>\n",
       "      <td>2022-01-03 09:10:50.475</td>\n",
       "      <td>2 Ave &amp; E 96 St</td>\n",
       "      <td>7338.02</td>\n",
       "      <td>5 Ave &amp; E 29 St</td>\n",
       "      <td>6248.06</td>\n",
       "      <td>40.783964</td>\n",
       "      <td>-73.947167</td>\n",
       "      <td>40.745168</td>\n",
       "      <td>-73.986831</td>\n",
       "      <td>member</td>\n",
       "      <td>2022-01-03</td>\n",
       "      <td>1.4</td>\n",
       "    </tr>\n",
       "    <tr>\n",
       "      <th>4</th>\n",
       "      <td>7590ADF834797B4B</td>\n",
       "      <td>classic_bike</td>\n",
       "      <td>2022-01-22 14:14:23.043</td>\n",
       "      <td>2022-01-22 14:34:57.474</td>\n",
       "      <td>6 Ave &amp; W 34 St</td>\n",
       "      <td>6364.1</td>\n",
       "      <td>5 Ave &amp; E 29 St</td>\n",
       "      <td>6248.06</td>\n",
       "      <td>40.749640</td>\n",
       "      <td>-73.988050</td>\n",
       "      <td>40.745168</td>\n",
       "      <td>-73.986831</td>\n",
       "      <td>member</td>\n",
       "      <td>2022-01-22</td>\n",
       "      <td>-5.9</td>\n",
       "    </tr>\n",
       "  </tbody>\n",
       "</table>\n",
       "</div>"
      ],
      "text/plain": [
       "            ride_id  rideable_type               started_at  \\\n",
       "0  BFD29218AB271154  electric_bike  2022-01-21 13:13:43.392   \n",
       "1  7C953F2FD7BE1302   classic_bike  2022-01-10 11:30:54.162   \n",
       "2  95893ABD40CED4B8  electric_bike  2022-01-26 10:52:43.096   \n",
       "3  F853B50772137378   classic_bike  2022-01-03 08:35:48.247   \n",
       "4  7590ADF834797B4B   classic_bike  2022-01-22 14:14:23.043   \n",
       "\n",
       "                  ended_at       start_station_name start_station_id  \\\n",
       "0  2022-01-21 13:22:31.463  West End Ave & W 107 St          7650.05   \n",
       "1  2022-01-10 11:41:43.422             4 Ave & 3 St          4028.04   \n",
       "2  2022-01-26 11:06:35.227          1 Ave & E 62 St          6753.08   \n",
       "3  2022-01-03 09:10:50.475          2 Ave & E 96 St          7338.02   \n",
       "4  2022-01-22 14:34:57.474          6 Ave & W 34 St           6364.1   \n",
       "\n",
       "              end_station_name end_station_id  start_lat  start_lng  \\\n",
       "0  Mt Morris Park W & W 120 St        7685.14  40.802117 -73.968181   \n",
       "1      Boerum Pl\\t& Pacific St        4488.09  40.673746 -73.985649   \n",
       "2              5 Ave & E 29 St        6248.06  40.761227 -73.960940   \n",
       "3              5 Ave & E 29 St        6248.06  40.783964 -73.947167   \n",
       "4              5 Ave & E 29 St        6248.06  40.749640 -73.988050   \n",
       "\n",
       "     end_lat    end_lng member_casual        date  avgTemp  \n",
       "0  40.804038 -73.945925        member  2022-01-21     -6.0  \n",
       "1  40.688489 -73.991160        member  2022-01-10      1.6  \n",
       "2  40.745168 -73.986831        member  2022-01-26     -2.3  \n",
       "3  40.745168 -73.986831        member  2022-01-03      1.4  \n",
       "4  40.745168 -73.986831        member  2022-01-22     -5.9  "
      ]
     },
     "execution_count": 21,
     "metadata": {},
     "output_type": "execute_result"
    }
   ],
   "source": [
    "# Validate column dropped succesfully\n",
    "df_merged.head()"
   ]
  },
  {
   "cell_type": "code",
   "execution_count": 22,
   "id": "8820c587-adee-4aee-876f-ae11bc46faac",
   "metadata": {},
   "outputs": [
    {
     "data": {
      "text/plain": [
       "(29838806, 15)"
      ]
     },
     "execution_count": 22,
     "metadata": {},
     "output_type": "execute_result"
    }
   ],
   "source": [
    "# Verify structure of the dataframe\n",
    "df_merged.shape"
   ]
  },
  {
   "cell_type": "code",
   "execution_count": 23,
   "id": "c06c0329-6562-4e7c-8b7e-720771a28c51",
   "metadata": {},
   "outputs": [
    {
     "data": {
      "text/plain": [
       "ride_id                object\n",
       "rideable_type          object\n",
       "started_at             object\n",
       "ended_at               object\n",
       "start_station_name     object\n",
       "start_station_id       object\n",
       "end_station_name       object\n",
       "end_station_id         object\n",
       "start_lat             float64\n",
       "start_lng             float64\n",
       "end_lat               float64\n",
       "end_lng               float64\n",
       "member_casual          object\n",
       "date                   object\n",
       "avgTemp               float64\n",
       "dtype: object"
      ]
     },
     "execution_count": 23,
     "metadata": {},
     "output_type": "execute_result"
    }
   ],
   "source": [
    "df_merged.dtypes"
   ]
  },
  {
   "cell_type": "code",
   "execution_count": 24,
   "id": "40d8df84-a674-4eb7-aafc-855d3c77939b",
   "metadata": {},
   "outputs": [],
   "source": [
    "# Convert date from object into datetime format\n",
    "df_merged['date'] = pd.to_datetime(df_merged['date'])"
   ]
  },
  {
   "cell_type": "code",
   "execution_count": 25,
   "id": "fff5df78-d440-46e2-8d83-9774bb131352",
   "metadata": {},
   "outputs": [
    {
     "data": {
      "text/plain": [
       "ride_id                       object\n",
       "rideable_type                 object\n",
       "started_at                    object\n",
       "ended_at                      object\n",
       "start_station_name            object\n",
       "start_station_id              object\n",
       "end_station_name              object\n",
       "end_station_id                object\n",
       "start_lat                    float64\n",
       "start_lng                    float64\n",
       "end_lat                      float64\n",
       "end_lng                      float64\n",
       "member_casual                 object\n",
       "date                  datetime64[ns]\n",
       "avgTemp                      float64\n",
       "dtype: object"
      ]
     },
     "execution_count": 25,
     "metadata": {},
     "output_type": "execute_result"
    }
   ],
   "source": [
    "# Verify format converted successfully\n",
    "df_merged.dtypes"
   ]
  },
  {
   "cell_type": "markdown",
   "id": "24e0f8d1-0eac-41aa-936e-49741b7b7518",
   "metadata": {},
   "source": [
    "## 3. Create a plot using pandas"
   ]
  },
  {
   "cell_type": "code",
   "execution_count": 26,
   "id": "90a6849e-3f3c-44d7-be3b-9e7ab46b8391",
   "metadata": {},
   "outputs": [],
   "source": [
    "# Create a temporary dataframe using the date column from the merged dataframe\n",
    "df_temp = df_merged.set_index('date')"
   ]
  },
  {
   "cell_type": "code",
   "execution_count": 27,
   "id": "1eadf466-03b4-4112-8de0-e715afe6dab8",
   "metadata": {},
   "outputs": [
    {
     "data": {
      "text/html": [
       "<div>\n",
       "<style scoped>\n",
       "    .dataframe tbody tr th:only-of-type {\n",
       "        vertical-align: middle;\n",
       "    }\n",
       "\n",
       "    .dataframe tbody tr th {\n",
       "        vertical-align: top;\n",
       "    }\n",
       "\n",
       "    .dataframe thead th {\n",
       "        text-align: right;\n",
       "    }\n",
       "</style>\n",
       "<table border=\"1\" class=\"dataframe\">\n",
       "  <thead>\n",
       "    <tr style=\"text-align: right;\">\n",
       "      <th></th>\n",
       "      <th>ride_id</th>\n",
       "      <th>rideable_type</th>\n",
       "      <th>started_at</th>\n",
       "      <th>ended_at</th>\n",
       "      <th>start_station_name</th>\n",
       "      <th>start_station_id</th>\n",
       "      <th>end_station_name</th>\n",
       "      <th>end_station_id</th>\n",
       "      <th>start_lat</th>\n",
       "      <th>start_lng</th>\n",
       "      <th>end_lat</th>\n",
       "      <th>end_lng</th>\n",
       "      <th>member_casual</th>\n",
       "      <th>avgTemp</th>\n",
       "    </tr>\n",
       "    <tr>\n",
       "      <th>date</th>\n",
       "      <th></th>\n",
       "      <th></th>\n",
       "      <th></th>\n",
       "      <th></th>\n",
       "      <th></th>\n",
       "      <th></th>\n",
       "      <th></th>\n",
       "      <th></th>\n",
       "      <th></th>\n",
       "      <th></th>\n",
       "      <th></th>\n",
       "      <th></th>\n",
       "      <th></th>\n",
       "      <th></th>\n",
       "    </tr>\n",
       "  </thead>\n",
       "  <tbody>\n",
       "    <tr>\n",
       "      <th>2022-01-21</th>\n",
       "      <td>BFD29218AB271154</td>\n",
       "      <td>electric_bike</td>\n",
       "      <td>2022-01-21 13:13:43.392</td>\n",
       "      <td>2022-01-21 13:22:31.463</td>\n",
       "      <td>West End Ave &amp; W 107 St</td>\n",
       "      <td>7650.05</td>\n",
       "      <td>Mt Morris Park W &amp; W 120 St</td>\n",
       "      <td>7685.14</td>\n",
       "      <td>40.802117</td>\n",
       "      <td>-73.968181</td>\n",
       "      <td>40.804038</td>\n",
       "      <td>-73.945925</td>\n",
       "      <td>member</td>\n",
       "      <td>-6.0</td>\n",
       "    </tr>\n",
       "    <tr>\n",
       "      <th>2022-01-10</th>\n",
       "      <td>7C953F2FD7BE1302</td>\n",
       "      <td>classic_bike</td>\n",
       "      <td>2022-01-10 11:30:54.162</td>\n",
       "      <td>2022-01-10 11:41:43.422</td>\n",
       "      <td>4 Ave &amp; 3 St</td>\n",
       "      <td>4028.04</td>\n",
       "      <td>Boerum Pl\\t&amp; Pacific St</td>\n",
       "      <td>4488.09</td>\n",
       "      <td>40.673746</td>\n",
       "      <td>-73.985649</td>\n",
       "      <td>40.688489</td>\n",
       "      <td>-73.991160</td>\n",
       "      <td>member</td>\n",
       "      <td>1.6</td>\n",
       "    </tr>\n",
       "    <tr>\n",
       "      <th>2022-01-26</th>\n",
       "      <td>95893ABD40CED4B8</td>\n",
       "      <td>electric_bike</td>\n",
       "      <td>2022-01-26 10:52:43.096</td>\n",
       "      <td>2022-01-26 11:06:35.227</td>\n",
       "      <td>1 Ave &amp; E 62 St</td>\n",
       "      <td>6753.08</td>\n",
       "      <td>5 Ave &amp; E 29 St</td>\n",
       "      <td>6248.06</td>\n",
       "      <td>40.761227</td>\n",
       "      <td>-73.960940</td>\n",
       "      <td>40.745168</td>\n",
       "      <td>-73.986831</td>\n",
       "      <td>member</td>\n",
       "      <td>-2.3</td>\n",
       "    </tr>\n",
       "    <tr>\n",
       "      <th>2022-01-03</th>\n",
       "      <td>F853B50772137378</td>\n",
       "      <td>classic_bike</td>\n",
       "      <td>2022-01-03 08:35:48.247</td>\n",
       "      <td>2022-01-03 09:10:50.475</td>\n",
       "      <td>2 Ave &amp; E 96 St</td>\n",
       "      <td>7338.02</td>\n",
       "      <td>5 Ave &amp; E 29 St</td>\n",
       "      <td>6248.06</td>\n",
       "      <td>40.783964</td>\n",
       "      <td>-73.947167</td>\n",
       "      <td>40.745168</td>\n",
       "      <td>-73.986831</td>\n",
       "      <td>member</td>\n",
       "      <td>1.4</td>\n",
       "    </tr>\n",
       "    <tr>\n",
       "      <th>2022-01-22</th>\n",
       "      <td>7590ADF834797B4B</td>\n",
       "      <td>classic_bike</td>\n",
       "      <td>2022-01-22 14:14:23.043</td>\n",
       "      <td>2022-01-22 14:34:57.474</td>\n",
       "      <td>6 Ave &amp; W 34 St</td>\n",
       "      <td>6364.1</td>\n",
       "      <td>5 Ave &amp; E 29 St</td>\n",
       "      <td>6248.06</td>\n",
       "      <td>40.749640</td>\n",
       "      <td>-73.988050</td>\n",
       "      <td>40.745168</td>\n",
       "      <td>-73.986831</td>\n",
       "      <td>member</td>\n",
       "      <td>-5.9</td>\n",
       "    </tr>\n",
       "  </tbody>\n",
       "</table>\n",
       "</div>"
      ],
      "text/plain": [
       "                     ride_id  rideable_type               started_at  \\\n",
       "date                                                                   \n",
       "2022-01-21  BFD29218AB271154  electric_bike  2022-01-21 13:13:43.392   \n",
       "2022-01-10  7C953F2FD7BE1302   classic_bike  2022-01-10 11:30:54.162   \n",
       "2022-01-26  95893ABD40CED4B8  electric_bike  2022-01-26 10:52:43.096   \n",
       "2022-01-03  F853B50772137378   classic_bike  2022-01-03 08:35:48.247   \n",
       "2022-01-22  7590ADF834797B4B   classic_bike  2022-01-22 14:14:23.043   \n",
       "\n",
       "                           ended_at       start_station_name start_station_id  \\\n",
       "date                                                                            \n",
       "2022-01-21  2022-01-21 13:22:31.463  West End Ave & W 107 St          7650.05   \n",
       "2022-01-10  2022-01-10 11:41:43.422             4 Ave & 3 St          4028.04   \n",
       "2022-01-26  2022-01-26 11:06:35.227          1 Ave & E 62 St          6753.08   \n",
       "2022-01-03  2022-01-03 09:10:50.475          2 Ave & E 96 St          7338.02   \n",
       "2022-01-22  2022-01-22 14:34:57.474          6 Ave & W 34 St           6364.1   \n",
       "\n",
       "                       end_station_name end_station_id  start_lat  start_lng  \\\n",
       "date                                                                           \n",
       "2022-01-21  Mt Morris Park W & W 120 St        7685.14  40.802117 -73.968181   \n",
       "2022-01-10      Boerum Pl\\t& Pacific St        4488.09  40.673746 -73.985649   \n",
       "2022-01-26              5 Ave & E 29 St        6248.06  40.761227 -73.960940   \n",
       "2022-01-03              5 Ave & E 29 St        6248.06  40.783964 -73.947167   \n",
       "2022-01-22              5 Ave & E 29 St        6248.06  40.749640 -73.988050   \n",
       "\n",
       "              end_lat    end_lng member_casual  avgTemp  \n",
       "date                                                     \n",
       "2022-01-21  40.804038 -73.945925        member     -6.0  \n",
       "2022-01-10  40.688489 -73.991160        member      1.6  \n",
       "2022-01-26  40.745168 -73.986831        member     -2.3  \n",
       "2022-01-03  40.745168 -73.986831        member      1.4  \n",
       "2022-01-22  40.745168 -73.986831        member     -5.9  "
      ]
     },
     "execution_count": 27,
     "metadata": {},
     "output_type": "execute_result"
    }
   ],
   "source": [
    "# Verify temporary dataframe created successfully\n",
    "df_temp.head()"
   ]
  },
  {
   "cell_type": "code",
   "execution_count": 31,
   "id": "60515441-b156-40f1-ba99-28374bc67a99",
   "metadata": {},
   "outputs": [
    {
     "data": {
      "text/plain": [
       "<function matplotlib.pyplot.show(close=None, block=None)>"
      ]
     },
     "execution_count": 31,
     "metadata": {},
     "output_type": "execute_result"
    },
    {
     "data": {
      "image/png": "[encoded data removed]",
      "text/plain": [
       "<Figure size 640x480 with 1 Axes>"
      ]
     },
     "metadata": {},
     "output_type": "display_data"
    }
   ],
   "source": [
    "# Create a plot with average temperature and date as the axis\n",
    "plt.plot(df_temp['avgTemp'])\n",
    "plt.show"
   ]
  },
  {
   "cell_type": "code",
   "execution_count": null,
   "id": "378e0bec-fc3b-4c1e-a995-8f98c503d368",
   "metadata": {},
   "outputs": [],
   "source": []
  }
 ],
 "metadata": {
  "kernelspec": {
   "display_name": "Python [conda env:venv_citibike]",
   "language": "python",
   "name": "conda-env-venv_citibike-py"
  },
  "language_info": {
   "codemirror_mode": {
    "name": "ipython",
    "version": 3
   },
   "file_extension": ".py",
   "mimetype": "text/x-python",
   "name": "python",
   "nbconvert_exporter": "python",
   "pygments_lexer": "ipython3",
   "version": "3.12.7"
  }
 },
 "nbformat": 4,
 "nbformat_minor": 5
}
